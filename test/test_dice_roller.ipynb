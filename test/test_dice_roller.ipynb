{
 "cells": [
  {
   "cell_type": "code",
   "execution_count": 2,
   "metadata": {},
   "outputs": [],
   "source": [
    "%load_ext autoreload\n",
    "%autoreload 2"
   ]
  },
  {
   "cell_type": "code",
   "execution_count": 3,
   "metadata": {},
   "outputs": [],
   "source": [
    "import sys\n",
    "sys.path.append(\"..\")"
   ]
  },
  {
   "cell_type": "code",
   "execution_count": 12,
   "metadata": {},
   "outputs": [],
   "source": [
    "from dice_roller import roll_dice, roll_stats"
   ]
  },
  {
   "cell_type": "code",
   "execution_count": 23,
   "metadata": {},
   "outputs": [
    {
     "name": "stdout",
     "output_type": "stream",
     "text": [
      "[10, 9, 11, 5, 5, 6]\n",
      "[10, 11, 13, 7, 14, 8]\n",
      "[10, 12, 8, 4, 9, 8]\n",
      "[9, 12, 13, 11, 17, 12]\n",
      "[9, 10, 6, 14, 16, 10]\n",
      "[10, 10, 14, 5, 14, 11]\n",
      "[5, 9, 12, 5, 14, 7]\n",
      "[9, 9, 9, 14, 7, 9]\n",
      "[15, 14, 12, 7, 12, 12]\n",
      "[15, 10, 14, 8, 6, 8]\n"
     ]
    }
   ],
   "source": [
    "for i in range(10):\n",
    "    print(roll_stats(1))"
   ]
  },
  {
   "cell_type": "code",
   "execution_count": 25,
   "metadata": {},
   "outputs": [
    {
     "name": "stdout",
     "output_type": "stream",
     "text": [
      "[13, 13, 12, 10, 14, 11]\n",
      "[14, 15, 11, 11, 15, 11]\n",
      "[11, 16, 11, 13, 14, 18]\n",
      "[16, 16, 17, 13, 9, 15]\n",
      "[11, 10, 12, 12, 10, 8]\n",
      "[13, 8, 17, 13, 10, 17]\n",
      "[9, 11, 13, 12, 11, 10]\n",
      "[7, 14, 8, 8, 15, 15]\n",
      "[12, 10, 17, 12, 14, 12]\n",
      "[10, 11, 9, 7, 18, 10]\n"
     ]
    }
   ],
   "source": [
    "for i in range(10):\n",
    "    print(roll_stats(2))"
   ]
  },
  {
   "cell_type": "code",
   "execution_count": 26,
   "metadata": {},
   "outputs": [
    {
     "name": "stdout",
     "output_type": "stream",
     "text": [
      "[12, 13, 13, 14, 14, 17]\n",
      "[12, 12, 14, 14, 15, 17]\n",
      "[11, 11, 11, 12, 14, 17]\n",
      "[11, 12, 12, 13, 13, 13]\n",
      "[11, 11, 12, 13, 13, 16]\n",
      "[11, 12, 12, 13, 14, 16]\n",
      "[11, 11, 12, 13, 13, 13]\n",
      "[11, 12, 12, 12, 15, 15]\n",
      "[11, 12, 12, 13, 15, 17]\n",
      "[8, 8, 11, 12, 13, 15]\n"
     ]
    }
   ],
   "source": [
    "for i in range(10):\n",
    "    print(roll_stats(4))"
   ]
  },
  {
   "cell_type": "code",
   "execution_count": 22,
   "metadata": {},
   "outputs": [
    {
     "name": "stdout",
     "output_type": "stream",
     "text": [
      "[9, 15, 13, 7, 9, 12]\n",
      "[10, 14, 12, 12, 10, 17]\n",
      "[7, 12, 16, 10, 15, 16]\n",
      "[8, 15, 8, 10, 12, 11]\n",
      "[11, 12, 11, 17, 14, 10]\n",
      "[15, 13, 17, 14, 8, 18]\n",
      "[15, 16, 14, 13, 11, 5]\n",
      "[15, 8, 12, 17, 16, 13]\n",
      "[12, 14, 16, 12, 4, 15]\n",
      "[14, 12, 14, 10, 13, 13]\n"
     ]
    }
   ],
   "source": [
    "for i in range(10):\n",
    "    print(roll_stats(5))"
   ]
  },
  {
   "cell_type": "code",
   "execution_count": null,
   "metadata": {},
   "outputs": [],
   "source": []
  }
 ],
 "metadata": {
  "kernelspec": {
   "display_name": "Python [conda env:dev]",
   "language": "python",
   "name": "conda-env-dev-py"
  },
  "language_info": {
   "codemirror_mode": {
    "name": "ipython",
    "version": 3
   },
   "file_extension": ".py",
   "mimetype": "text/x-python",
   "name": "python",
   "nbconvert_exporter": "python",
   "pygments_lexer": "ipython3",
   "version": "3.7.7"
  }
 },
 "nbformat": 4,
 "nbformat_minor": 4
}
